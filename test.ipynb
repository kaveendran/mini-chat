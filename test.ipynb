{
 "cells": [
  {
   "cell_type": "code",
   "execution_count": 1,
   "metadata": {},
   "outputs": [],
   "source": [
    "# FAISS vector store to store and retrieve the chunks\n",
    "from langchain_community.vectorstores.faiss import FAISS\n",
    "# Document object to store the chunks in memory\n",
    "from langchain_core.documents import Document\n",
    "# IN memory doc store to keep and load the locally stored chunks \n",
    "from langchain_community.docstore import InMemoryDocstore\n",
    "# converstaional buffer memory for store previous chat context\n",
    "from langchain.memory import  ConversationBufferMemory \n"
   ]
  },
  {
   "cell_type": "markdown",
   "metadata": {},
   "source": []
  },
  {
   "cell_type": "markdown",
   "metadata": {},
   "source": []
  },
  {
   "cell_type": "markdown",
   "metadata": {},
   "source": []
  }
 ],
 "metadata": {
  "kernelspec": {
   "display_name": ".venv",
   "language": "python",
   "name": "python3"
  },
  "language_info": {
   "codemirror_mode": {
    "name": "ipython",
    "version": 3
   },
   "file_extension": ".py",
   "mimetype": "text/x-python",
   "name": "python",
   "nbconvert_exporter": "python",
   "pygments_lexer": "ipython3",
   "version": "3.10.11"
  }
 },
 "nbformat": 4,
 "nbformat_minor": 2
}
